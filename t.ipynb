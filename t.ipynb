{
 "cells": [
  {
   "cell_type": "code",
   "execution_count": 1,
   "id": "633ab4bf",
   "metadata": {},
   "outputs": [],
   "source": [
    "from utils.CostumerData import CostumerData\n",
    "from utils.config import preprocessor,logistic,xgb,forest\n",
    "import pandas as pd\n",
    "\n"
   ]
  },
  {
   "cell_type": "code",
   "execution_count": 2,
   "id": "79f8ae8f",
   "metadata": {},
   "outputs": [],
   "source": [
    "data= CostumerData(\n",
    "    income_annum=5100000,\n",
    "    loan_amount=15000000,\n",
    "    loan_term=10,\n",
    "    cibil_score=750,\n",
    "    bank_asset_value=4600000,\n",
    "    total_assets=3150000,\n",
    "    loan_to_income=2.94,\n",
    "    loan_to_assets_ratio=1.48,\n",
    "    education='Graduate',\n",
    "    self_employed='No',\n",
    "    commercial_assets_value= 0,\n",
    "    residential_assets_value= 0,\n",
    "    luxury_assets_value = 0,\n",
    "    no_of_dependents = 0\n",
    ")\n",
    "    \n",
    "    "
   ]
  },
  {
   "cell_type": "code",
   "execution_count": 3,
   "id": "0d008d28",
   "metadata": {},
   "outputs": [
    {
     "data": {
      "text/plain": [
       "CostumerData(income_annum=5100000, loan_amount=15000000, loan_term=10, cibil_score=750, bank_asset_value=4600000, total_assets=3150000, loan_to_income=2.94, loan_to_assets_ratio=1.48, education='Graduate', self_employed='No', commercial_assets_value=0, residential_assets_value=0, luxury_assets_value=0, no_of_dependents=0)"
      ]
     },
     "execution_count": 3,
     "metadata": {},
     "output_type": "execute_result"
    }
   ],
   "source": [
    "data"
   ]
  },
  {
   "cell_type": "code",
   "execution_count": 4,
   "id": "e0568f9e",
   "metadata": {},
   "outputs": [
    {
     "data": {
      "text/html": [
       "<div>\n",
       "<style scoped>\n",
       "    .dataframe tbody tr th:only-of-type {\n",
       "        vertical-align: middle;\n",
       "    }\n",
       "\n",
       "    .dataframe tbody tr th {\n",
       "        vertical-align: top;\n",
       "    }\n",
       "\n",
       "    .dataframe thead th {\n",
       "        text-align: right;\n",
       "    }\n",
       "</style>\n",
       "<table border=\"1\" class=\"dataframe\">\n",
       "  <thead>\n",
       "    <tr style=\"text-align: right;\">\n",
       "      <th></th>\n",
       "      <th>income_annum</th>\n",
       "      <th>loan_amount</th>\n",
       "      <th>loan_term</th>\n",
       "      <th>cibil_score</th>\n",
       "      <th>bank_asset_value</th>\n",
       "      <th>total_assets</th>\n",
       "      <th>loan_to_income</th>\n",
       "      <th>loan_to_assets_ratio</th>\n",
       "      <th>education</th>\n",
       "      <th>self_employed</th>\n",
       "      <th>commercial_assets_value</th>\n",
       "      <th>residential_assets_value</th>\n",
       "      <th>luxury_assets_value</th>\n",
       "      <th>no_of_dependents</th>\n",
       "    </tr>\n",
       "  </thead>\n",
       "  <tbody>\n",
       "    <tr>\n",
       "      <th>0</th>\n",
       "      <td>5100000</td>\n",
       "      <td>15000000</td>\n",
       "      <td>10</td>\n",
       "      <td>750</td>\n",
       "      <td>4600000</td>\n",
       "      <td>3150000</td>\n",
       "      <td>2.94</td>\n",
       "      <td>1.48</td>\n",
       "      <td>Graduate</td>\n",
       "      <td>No</td>\n",
       "      <td>0</td>\n",
       "      <td>0</td>\n",
       "      <td>0</td>\n",
       "      <td>0</td>\n",
       "    </tr>\n",
       "  </tbody>\n",
       "</table>\n",
       "</div>"
      ],
      "text/plain": [
       "   income_annum  loan_amount  loan_term  cibil_score  bank_asset_value  \\\n",
       "0       5100000     15000000         10          750           4600000   \n",
       "\n",
       "   total_assets  loan_to_income  loan_to_assets_ratio education self_employed  \\\n",
       "0       3150000            2.94                  1.48  Graduate            No   \n",
       "\n",
       "   commercial_assets_value  residential_assets_value  luxury_assets_value  \\\n",
       "0                        0                         0                    0   \n",
       "\n",
       "   no_of_dependents  \n",
       "0                 0  "
      ]
     },
     "execution_count": 4,
     "metadata": {},
     "output_type": "execute_result"
    }
   ],
   "source": [
    "new_data = pd.DataFrame([data.model_dump()])\n",
    "new_data"
   ]
  },
  {
   "cell_type": "code",
   "execution_count": 8,
   "id": "1016f0db",
   "metadata": {},
   "outputs": [
    {
     "data": {
      "text/plain": [
       "False"
      ]
     },
     "execution_count": 8,
     "metadata": {},
     "output_type": "execute_result"
    }
   ],
   "source": [
    "processed = preprocessor.transform(new_data)\n",
    "bool(forest.predict(processed)[0])"
   ]
  },
  {
   "cell_type": "code",
   "execution_count": null,
   "id": "e07366bb",
   "metadata": {},
   "outputs": [],
   "source": []
  }
 ],
 "metadata": {
  "kernelspec": {
   "display_name": "Python 3",
   "language": "python",
   "name": "python3"
  },
  "language_info": {
   "codemirror_mode": {
    "name": "ipython",
    "version": 3
   },
   "file_extension": ".py",
   "mimetype": "text/x-python",
   "name": "python",
   "nbconvert_exporter": "python",
   "pygments_lexer": "ipython3",
   "version": "3.13.2"
  }
 },
 "nbformat": 4,
 "nbformat_minor": 5
}
