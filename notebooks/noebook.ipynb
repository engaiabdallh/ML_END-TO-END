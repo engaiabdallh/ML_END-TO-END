{
 "cells": [
  {
   "cell_type": "markdown",
   "id": "d804109f",
   "metadata": {},
   "source": [
    " * `Imbort Libraries`"
   ]
  },
  {
   "cell_type": "code",
   "execution_count": 224,
   "id": "87563688",
   "metadata": {},
   "outputs": [],
   "source": [
    "import numpy as np\n",
    "import pandas as pd\n",
    "import matplotlib.pyplot as plt\n",
    "import seaborn as sns\n",
    "import os\n",
    "import joblib\n",
    "from imblearn.over_sampling import SMOTE\n",
    "\n",
    "from sklearn.utils.class_weight import compute_class_weight\n",
    "from sklearn.feature_selection import f_classif, chi2\n",
    "from sklearn.model_selection import train_test_split, GridSearchCV, RandomizedSearchCV\n",
    "from sklearn.impute import SimpleImputer\n",
    "from sklearn.pipeline import Pipeline\n",
    "from sklearn.compose import ColumnTransformer\n",
    "from sklearn.preprocessing import OneHotEncoder, StandardScaler, OrdinalEncoder,LabelEncoder\n",
    "from sklearn.metrics import f1_score, confusion_matrix, classification_report\n",
    "from sklearn.linear_model import LogisticRegression\n",
    "from sklearn.ensemble import RandomForestClassifier\n",
    "import xgboost as xgb"
   ]
  },
  {
   "cell_type": "markdown",
   "id": "1fd91d60",
   "metadata": {},
   "source": [
    "* `Read Dataset`"
   ]
  },
  {
   "cell_type": "code",
   "execution_count": 225,
   "id": "3c0fc282",
   "metadata": {},
   "outputs": [
    {
     "data": {
      "text/html": [
       "<div>\n",
       "<style scoped>\n",
       "    .dataframe tbody tr th:only-of-type {\n",
       "        vertical-align: middle;\n",
       "    }\n",
       "\n",
       "    .dataframe tbody tr th {\n",
       "        vertical-align: top;\n",
       "    }\n",
       "\n",
       "    .dataframe thead th {\n",
       "        text-align: right;\n",
       "    }\n",
       "</style>\n",
       "<table border=\"1\" class=\"dataframe\">\n",
       "  <thead>\n",
       "    <tr style=\"text-align: right;\">\n",
       "      <th></th>\n",
       "      <th>loan_id</th>\n",
       "      <th>no_of_dependents</th>\n",
       "      <th>education</th>\n",
       "      <th>self_employed</th>\n",
       "      <th>income_annum</th>\n",
       "      <th>loan_amount</th>\n",
       "      <th>loan_term</th>\n",
       "      <th>cibil_score</th>\n",
       "      <th>residential_assets_value</th>\n",
       "      <th>commercial_assets_value</th>\n",
       "      <th>luxury_assets_value</th>\n",
       "      <th>bank_asset_value</th>\n",
       "      <th>loan_status</th>\n",
       "    </tr>\n",
       "  </thead>\n",
       "  <tbody>\n",
       "    <tr>\n",
       "      <th>0</th>\n",
       "      <td>1</td>\n",
       "      <td>2</td>\n",
       "      <td>Graduate</td>\n",
       "      <td>No</td>\n",
       "      <td>9600000</td>\n",
       "      <td>29900000</td>\n",
       "      <td>12</td>\n",
       "      <td>778</td>\n",
       "      <td>2400000</td>\n",
       "      <td>17600000</td>\n",
       "      <td>22700000</td>\n",
       "      <td>8000000</td>\n",
       "      <td>Approved</td>\n",
       "    </tr>\n",
       "    <tr>\n",
       "      <th>1</th>\n",
       "      <td>2</td>\n",
       "      <td>0</td>\n",
       "      <td>Not Graduate</td>\n",
       "      <td>Yes</td>\n",
       "      <td>4100000</td>\n",
       "      <td>12200000</td>\n",
       "      <td>8</td>\n",
       "      <td>417</td>\n",
       "      <td>2700000</td>\n",
       "      <td>2200000</td>\n",
       "      <td>8800000</td>\n",
       "      <td>3300000</td>\n",
       "      <td>Rejected</td>\n",
       "    </tr>\n",
       "    <tr>\n",
       "      <th>2</th>\n",
       "      <td>3</td>\n",
       "      <td>3</td>\n",
       "      <td>Graduate</td>\n",
       "      <td>No</td>\n",
       "      <td>9100000</td>\n",
       "      <td>29700000</td>\n",
       "      <td>20</td>\n",
       "      <td>506</td>\n",
       "      <td>7100000</td>\n",
       "      <td>4500000</td>\n",
       "      <td>33300000</td>\n",
       "      <td>12800000</td>\n",
       "      <td>Rejected</td>\n",
       "    </tr>\n",
       "    <tr>\n",
       "      <th>3</th>\n",
       "      <td>4</td>\n",
       "      <td>3</td>\n",
       "      <td>Graduate</td>\n",
       "      <td>No</td>\n",
       "      <td>8200000</td>\n",
       "      <td>30700000</td>\n",
       "      <td>8</td>\n",
       "      <td>467</td>\n",
       "      <td>18200000</td>\n",
       "      <td>3300000</td>\n",
       "      <td>23300000</td>\n",
       "      <td>7900000</td>\n",
       "      <td>Rejected</td>\n",
       "    </tr>\n",
       "    <tr>\n",
       "      <th>4</th>\n",
       "      <td>5</td>\n",
       "      <td>5</td>\n",
       "      <td>Not Graduate</td>\n",
       "      <td>Yes</td>\n",
       "      <td>9800000</td>\n",
       "      <td>24200000</td>\n",
       "      <td>20</td>\n",
       "      <td>382</td>\n",
       "      <td>12400000</td>\n",
       "      <td>8200000</td>\n",
       "      <td>29400000</td>\n",
       "      <td>5000000</td>\n",
       "      <td>Rejected</td>\n",
       "    </tr>\n",
       "  </tbody>\n",
       "</table>\n",
       "</div>"
      ],
      "text/plain": [
       "   loan_id   no_of_dependents      education  self_employed   income_annum  \\\n",
       "0        1                  2       Graduate             No        9600000   \n",
       "1        2                  0   Not Graduate            Yes        4100000   \n",
       "2        3                  3       Graduate             No        9100000   \n",
       "3        4                  3       Graduate             No        8200000   \n",
       "4        5                  5   Not Graduate            Yes        9800000   \n",
       "\n",
       "    loan_amount   loan_term   cibil_score   residential_assets_value  \\\n",
       "0      29900000          12           778                    2400000   \n",
       "1      12200000           8           417                    2700000   \n",
       "2      29700000          20           506                    7100000   \n",
       "3      30700000           8           467                   18200000   \n",
       "4      24200000          20           382                   12400000   \n",
       "\n",
       "    commercial_assets_value   luxury_assets_value   bank_asset_value  \\\n",
       "0                  17600000              22700000            8000000   \n",
       "1                   2200000               8800000            3300000   \n",
       "2                   4500000              33300000           12800000   \n",
       "3                   3300000              23300000            7900000   \n",
       "4                   8200000              29400000            5000000   \n",
       "\n",
       "   loan_status  \n",
       "0     Approved  \n",
       "1     Rejected  \n",
       "2     Rejected  \n",
       "3     Rejected  \n",
       "4     Rejected  "
      ]
     },
     "execution_count": 225,
     "metadata": {},
     "output_type": "execute_result"
    }
   ],
   "source": [
    "DATA_PATH = os.path.join(os.getcwd(), '..', 'dataset', 'loan_approval_dataset.csv')\n",
    "df = pd.read_csv(DATA_PATH)\n",
    "df.head()"
   ]
  },
  {
   "cell_type": "code",
   "execution_count": 226,
   "id": "ee34d84e",
   "metadata": {},
   "outputs": [],
   "source": [
    "df.drop(columns='loan_id',axis=1,inplace=True)"
   ]
  },
  {
   "cell_type": "code",
   "execution_count": 227,
   "id": "58a4b273",
   "metadata": {},
   "outputs": [],
   "source": [
    "df.columns = df.columns.str.strip().str.replace(' ','_')"
   ]
  },
  {
   "cell_type": "code",
   "execution_count": 228,
   "id": "ca57f741",
   "metadata": {},
   "outputs": [
    {
     "name": "stdout",
     "output_type": "stream",
     "text": [
      "<class 'pandas.core.frame.DataFrame'>\n",
      "RangeIndex: 4269 entries, 0 to 4268\n",
      "Data columns (total 12 columns):\n",
      " #   Column                    Non-Null Count  Dtype \n",
      "---  ------                    --------------  ----- \n",
      " 0   no_of_dependents          4269 non-null   int64 \n",
      " 1   education                 4269 non-null   object\n",
      " 2   self_employed             4269 non-null   object\n",
      " 3   income_annum              4269 non-null   int64 \n",
      " 4   loan_amount               4269 non-null   int64 \n",
      " 5   loan_term                 4269 non-null   int64 \n",
      " 6   cibil_score               4269 non-null   int64 \n",
      " 7   residential_assets_value  4269 non-null   int64 \n",
      " 8   commercial_assets_value   4269 non-null   int64 \n",
      " 9   luxury_assets_value       4269 non-null   int64 \n",
      " 10  bank_asset_value          4269 non-null   int64 \n",
      " 11  loan_status               4269 non-null   object\n",
      "dtypes: int64(9), object(3)\n",
      "memory usage: 400.3+ KB\n"
     ]
    }
   ],
   "source": [
    "df.info()"
   ]
  },
  {
   "cell_type": "code",
   "execution_count": 229,
   "id": "186b326d",
   "metadata": {},
   "outputs": [
    {
     "data": {
      "text/html": [
       "<div>\n",
       "<style scoped>\n",
       "    .dataframe tbody tr th:only-of-type {\n",
       "        vertical-align: middle;\n",
       "    }\n",
       "\n",
       "    .dataframe tbody tr th {\n",
       "        vertical-align: top;\n",
       "    }\n",
       "\n",
       "    .dataframe thead th {\n",
       "        text-align: right;\n",
       "    }\n",
       "</style>\n",
       "<table border=\"1\" class=\"dataframe\">\n",
       "  <thead>\n",
       "    <tr style=\"text-align: right;\">\n",
       "      <th></th>\n",
       "      <th>no_of_dependents</th>\n",
       "      <th>income_annum</th>\n",
       "      <th>loan_amount</th>\n",
       "      <th>loan_term</th>\n",
       "      <th>cibil_score</th>\n",
       "      <th>residential_assets_value</th>\n",
       "      <th>commercial_assets_value</th>\n",
       "      <th>luxury_assets_value</th>\n",
       "      <th>bank_asset_value</th>\n",
       "    </tr>\n",
       "  </thead>\n",
       "  <tbody>\n",
       "    <tr>\n",
       "      <th>count</th>\n",
       "      <td>4269.000000</td>\n",
       "      <td>4.269000e+03</td>\n",
       "      <td>4.269000e+03</td>\n",
       "      <td>4269.000000</td>\n",
       "      <td>4269.000000</td>\n",
       "      <td>4.269000e+03</td>\n",
       "      <td>4.269000e+03</td>\n",
       "      <td>4.269000e+03</td>\n",
       "      <td>4.269000e+03</td>\n",
       "    </tr>\n",
       "    <tr>\n",
       "      <th>mean</th>\n",
       "      <td>2.498712</td>\n",
       "      <td>5.059124e+06</td>\n",
       "      <td>1.513345e+07</td>\n",
       "      <td>10.900445</td>\n",
       "      <td>599.936051</td>\n",
       "      <td>7.472617e+06</td>\n",
       "      <td>4.973155e+06</td>\n",
       "      <td>1.512631e+07</td>\n",
       "      <td>4.976692e+06</td>\n",
       "    </tr>\n",
       "    <tr>\n",
       "      <th>std</th>\n",
       "      <td>1.695910</td>\n",
       "      <td>2.806840e+06</td>\n",
       "      <td>9.043363e+06</td>\n",
       "      <td>5.709187</td>\n",
       "      <td>172.430401</td>\n",
       "      <td>6.503637e+06</td>\n",
       "      <td>4.388966e+06</td>\n",
       "      <td>9.103754e+06</td>\n",
       "      <td>3.250185e+06</td>\n",
       "    </tr>\n",
       "    <tr>\n",
       "      <th>min</th>\n",
       "      <td>0.000000</td>\n",
       "      <td>2.000000e+05</td>\n",
       "      <td>3.000000e+05</td>\n",
       "      <td>2.000000</td>\n",
       "      <td>300.000000</td>\n",
       "      <td>-1.000000e+05</td>\n",
       "      <td>0.000000e+00</td>\n",
       "      <td>3.000000e+05</td>\n",
       "      <td>0.000000e+00</td>\n",
       "    </tr>\n",
       "    <tr>\n",
       "      <th>25%</th>\n",
       "      <td>1.000000</td>\n",
       "      <td>2.700000e+06</td>\n",
       "      <td>7.700000e+06</td>\n",
       "      <td>6.000000</td>\n",
       "      <td>453.000000</td>\n",
       "      <td>2.200000e+06</td>\n",
       "      <td>1.300000e+06</td>\n",
       "      <td>7.500000e+06</td>\n",
       "      <td>2.300000e+06</td>\n",
       "    </tr>\n",
       "    <tr>\n",
       "      <th>50%</th>\n",
       "      <td>3.000000</td>\n",
       "      <td>5.100000e+06</td>\n",
       "      <td>1.450000e+07</td>\n",
       "      <td>10.000000</td>\n",
       "      <td>600.000000</td>\n",
       "      <td>5.600000e+06</td>\n",
       "      <td>3.700000e+06</td>\n",
       "      <td>1.460000e+07</td>\n",
       "      <td>4.600000e+06</td>\n",
       "    </tr>\n",
       "    <tr>\n",
       "      <th>75%</th>\n",
       "      <td>4.000000</td>\n",
       "      <td>7.500000e+06</td>\n",
       "      <td>2.150000e+07</td>\n",
       "      <td>16.000000</td>\n",
       "      <td>748.000000</td>\n",
       "      <td>1.130000e+07</td>\n",
       "      <td>7.600000e+06</td>\n",
       "      <td>2.170000e+07</td>\n",
       "      <td>7.100000e+06</td>\n",
       "    </tr>\n",
       "    <tr>\n",
       "      <th>max</th>\n",
       "      <td>5.000000</td>\n",
       "      <td>9.900000e+06</td>\n",
       "      <td>3.950000e+07</td>\n",
       "      <td>20.000000</td>\n",
       "      <td>900.000000</td>\n",
       "      <td>2.910000e+07</td>\n",
       "      <td>1.940000e+07</td>\n",
       "      <td>3.920000e+07</td>\n",
       "      <td>1.470000e+07</td>\n",
       "    </tr>\n",
       "  </tbody>\n",
       "</table>\n",
       "</div>"
      ],
      "text/plain": [
       "       no_of_dependents  income_annum   loan_amount    loan_term  cibil_score  \\\n",
       "count       4269.000000  4.269000e+03  4.269000e+03  4269.000000  4269.000000   \n",
       "mean           2.498712  5.059124e+06  1.513345e+07    10.900445   599.936051   \n",
       "std            1.695910  2.806840e+06  9.043363e+06     5.709187   172.430401   \n",
       "min            0.000000  2.000000e+05  3.000000e+05     2.000000   300.000000   \n",
       "25%            1.000000  2.700000e+06  7.700000e+06     6.000000   453.000000   \n",
       "50%            3.000000  5.100000e+06  1.450000e+07    10.000000   600.000000   \n",
       "75%            4.000000  7.500000e+06  2.150000e+07    16.000000   748.000000   \n",
       "max            5.000000  9.900000e+06  3.950000e+07    20.000000   900.000000   \n",
       "\n",
       "       residential_assets_value  commercial_assets_value  luxury_assets_value  \\\n",
       "count              4.269000e+03             4.269000e+03         4.269000e+03   \n",
       "mean               7.472617e+06             4.973155e+06         1.512631e+07   \n",
       "std                6.503637e+06             4.388966e+06         9.103754e+06   \n",
       "min               -1.000000e+05             0.000000e+00         3.000000e+05   \n",
       "25%                2.200000e+06             1.300000e+06         7.500000e+06   \n",
       "50%                5.600000e+06             3.700000e+06         1.460000e+07   \n",
       "75%                1.130000e+07             7.600000e+06         2.170000e+07   \n",
       "max                2.910000e+07             1.940000e+07         3.920000e+07   \n",
       "\n",
       "       bank_asset_value  \n",
       "count      4.269000e+03  \n",
       "mean       4.976692e+06  \n",
       "std        3.250185e+06  \n",
       "min        0.000000e+00  \n",
       "25%        2.300000e+06  \n",
       "50%        4.600000e+06  \n",
       "75%        7.100000e+06  \n",
       "max        1.470000e+07  "
      ]
     },
     "execution_count": 229,
     "metadata": {},
     "output_type": "execute_result"
    }
   ],
   "source": [
    "df.describe()"
   ]
  },
  {
   "cell_type": "code",
   "execution_count": null,
   "id": "4ca2a356",
   "metadata": {},
   "outputs": [],
   "source": []
  },
  {
   "cell_type": "markdown",
   "id": "cfe24c95",
   "metadata": {},
   "source": [
    "* `EDA`"
   ]
  },
  {
   "cell_type": "code",
   "execution_count": 230,
   "id": "e1e9879f",
   "metadata": {},
   "outputs": [
    {
     "data": {
      "text/plain": [
       "no_of_dependents            0\n",
       "education                   0\n",
       "self_employed               0\n",
       "income_annum                0\n",
       "loan_amount                 0\n",
       "loan_term                   0\n",
       "cibil_score                 0\n",
       "residential_assets_value    0\n",
       "commercial_assets_value     0\n",
       "luxury_assets_value         0\n",
       "bank_asset_value            0\n",
       "loan_status                 0\n",
       "dtype: int64"
      ]
     },
     "execution_count": 230,
     "metadata": {},
     "output_type": "execute_result"
    }
   ],
   "source": [
    "df.isna().sum()"
   ]
  },
  {
   "cell_type": "code",
   "execution_count": 231,
   "id": "8863480b",
   "metadata": {},
   "outputs": [
    {
     "data": {
      "text/plain": [
       "np.int64(0)"
      ]
     },
     "execution_count": 231,
     "metadata": {},
     "output_type": "execute_result"
    }
   ],
   "source": [
    "df.duplicated().sum()"
   ]
  },
  {
   "cell_type": "code",
   "execution_count": 232,
   "id": "70bef9f6",
   "metadata": {},
   "outputs": [
    {
     "data": {
      "text/plain": [
       "no_of_dependents             int64\n",
       "education                   object\n",
       "self_employed               object\n",
       "income_annum                 int64\n",
       "loan_amount                  int64\n",
       "loan_term                    int64\n",
       "cibil_score                  int64\n",
       "residential_assets_value     int64\n",
       "commercial_assets_value      int64\n",
       "luxury_assets_value          int64\n",
       "bank_asset_value             int64\n",
       "loan_status                 object\n",
       "dtype: object"
      ]
     },
     "execution_count": 232,
     "metadata": {},
     "output_type": "execute_result"
    }
   ],
   "source": [
    "df.dtypes"
   ]
  },
  {
   "cell_type": "markdown",
   "id": "d9408304",
   "metadata": {},
   "source": [
    "Feature Engineering"
   ]
  },
  {
   "cell_type": "code",
   "execution_count": 233,
   "id": "8db2cd4c",
   "metadata": {},
   "outputs": [],
   "source": [
    "# To combine the asset features\n",
    "df['total_assets'] = df['residential_assets_value'] + df['commercial_assets_value'] + df['luxury_assets_value'] + df['bank_asset_value']"
   ]
  },
  {
   "cell_type": "code",
   "execution_count": 234,
   "id": "773e8477",
   "metadata": {},
   "outputs": [],
   "source": [
    "df['loan_to_income'] = df['loan_amount'] / df['income_annum']\n",
    "df['loan_to_assets_ratio'] = df['loan_amount'] / df['total_assets'] + 1"
   ]
  },
  {
   "cell_type": "code",
   "execution_count": 235,
   "id": "c30425c0",
   "metadata": {},
   "outputs": [
    {
     "data": {
      "text/plain": [
       "education\n",
       "Graduate        2144\n",
       "Not Graduate    2125\n",
       "Name: count, dtype: int64"
      ]
     },
     "execution_count": 235,
     "metadata": {},
     "output_type": "execute_result"
    }
   ],
   "source": [
    "df['education'].value_counts()"
   ]
  },
  {
   "cell_type": "code",
   "execution_count": 236,
   "id": "afad2506",
   "metadata": {},
   "outputs": [
    {
     "data": {
      "text/plain": [
       "self_employed\n",
       "Yes    2150\n",
       "No     2119\n",
       "Name: count, dtype: int64"
      ]
     },
     "execution_count": 236,
     "metadata": {},
     "output_type": "execute_result"
    }
   ],
   "source": [
    "df['self_employed'].value_counts()"
   ]
  },
  {
   "cell_type": "code",
   "execution_count": 237,
   "id": "185d8af2",
   "metadata": {},
   "outputs": [
    {
     "data": {
      "text/plain": [
       "loan_status\n",
       "Approved    2656\n",
       "Rejected    1613\n",
       "Name: count, dtype: int64"
      ]
     },
     "execution_count": 237,
     "metadata": {},
     "output_type": "execute_result"
    }
   ],
   "source": [
    "# Target Column\n",
    "df['loan_status'].value_counts()"
   ]
  },
  {
   "cell_type": "code",
   "execution_count": 238,
   "id": "35589384",
   "metadata": {},
   "outputs": [],
   "source": [
    "# OH MY GAT THIS IS Imbalanced Data"
   ]
  },
  {
   "cell_type": "markdown",
   "id": "cf8ab4c4",
   "metadata": {},
   "source": [
    "* `Data VIZ & Handling Outlier`"
   ]
  },
  {
   "cell_type": "code",
   "execution_count": 239,
   "id": "17e6f5f6",
   "metadata": {},
   "outputs": [
    {
     "data": {
      "image/png": "[encoded data removed]",
      "text/plain": [
       "<Figure size 3000x1500 with 12 Axes>"
      ]
     },
     "metadata": {},
     "output_type": "display_data"
    }
   ],
   "source": [
    "df.hist(bins=50,figsize=(30,15))\n",
    "plt.show()"
   ]
  },
  {
   "cell_type": "code",
   "execution_count": 240,
   "id": "dba4c164",
   "metadata": {},
   "outputs": [
    {
     "data": {
      "image/png": "[encoded data removed]",
      "text/plain": [
       "<Figure size 640x480 with 1 Axes>"
      ]
     },
     "metadata": {},
     "output_type": "display_data"
    }
   ],
   "source": [
    "sns.countplot(data=df,x='education', order=df['education'].value_counts().index.tolist())\n",
    "plt.show()"
   ]
  },
  {
   "cell_type": "code",
   "execution_count": 241,
   "id": "60e0d815",
   "metadata": {},
   "outputs": [
    {
     "data": {
      "image/png": "[encoded data removed]",
      "text/plain": [
       "<Figure size 640x480 with 1 Axes>"
      ]
     },
     "metadata": {},
     "output_type": "display_data"
    }
   ],
   "source": [
    "sns.countplot(data=df,x='self_employed', order=df['self_employed'].value_counts().index.tolist())\n",
    "plt.show()"
   ]
  },
  {
   "cell_type": "code",
   "execution_count": 242,
   "id": "e93838d6",
   "metadata": {},
   "outputs": [
    {
     "data": {
      "image/png": "[encoded data removed]",
      "text/plain": [
       "<Figure size 640x480 with 1 Axes>"
      ]
     },
     "metadata": {},
     "output_type": "display_data"
    }
   ],
   "source": [
    "sns.countplot(data=df,x='loan_status');"
   ]
  },
  {
   "cell_type": "code",
   "execution_count": null,
   "id": "1997b33c",
   "metadata": {},
   "outputs": [],
   "source": []
  },
  {
   "cell_type": "code",
   "execution_count": 243,
   "id": "b301f3ba",
   "metadata": {},
   "outputs": [
    {
     "data": {
      "text/plain": [
       "self_employed\n",
       "No     5.052430e+06\n",
       "Yes    5.065721e+06\n",
       "Name: income_annum, dtype: float64"
      ]
     },
     "execution_count": 243,
     "metadata": {},
     "output_type": "execute_result"
    }
   ],
   "source": [
    "df[['self_employed','income_annum']].groupby(by='self_employed')['income_annum'].mean()"
   ]
  },
  {
   "cell_type": "code",
   "execution_count": 244,
   "id": "c1ceac5d",
   "metadata": {},
   "outputs": [
    {
     "data": {
      "image/png": "[encoded data removed]",
      "text/plain": [
       "<Figure size 640x480 with 1 Axes>"
      ]
     },
     "metadata": {},
     "output_type": "display_data"
    }
   ],
   "source": [
    "sns.barplot(data=df,x='self_employed',y='income_annum',estimator='mean');"
   ]
  },
  {
   "cell_type": "code",
   "execution_count": 245,
   "id": "9dade22b",
   "metadata": {},
   "outputs": [
    {
     "data": {
      "text/plain": [
       "education\n",
       "Graduate        5.091604e+06\n",
       "Not Graduate    5.026353e+06\n",
       "Name: income_annum, dtype: float64"
      ]
     },
     "execution_count": 245,
     "metadata": {},
     "output_type": "execute_result"
    }
   ],
   "source": [
    "df[['education','income_annum']].groupby(by='education')['income_annum'].mean()"
   ]
  },
  {
   "cell_type": "code",
   "execution_count": 246,
   "id": "71231623",
   "metadata": {},
   "outputs": [
    {
     "data": {
      "image/png": "[encoded data removed]",
      "text/plain": [
       "<Figure size 640x480 with 1 Axes>"
      ]
     },
     "metadata": {},
     "output_type": "display_data"
    }
   ],
   "source": [
    "sns.barplot(data=df,x='education',y='income_annum',estimator='mean');"
   ]
  },
  {
   "cell_type": "code",
   "execution_count": 247,
   "id": "e8f0bdbc",
   "metadata": {},
   "outputs": [
    {
     "data": {
      "image/png": "[encoded data removed]",
      "text/plain": [
       "<Figure size 640x480 with 1 Axes>"
      ]
     },
     "metadata": {},
     "output_type": "display_data"
    }
   ],
   "source": [
    "sns.countplot(data=df,x='self_employed',hue='loan_status')\n",
    "plt.show()"
   ]
  },
  {
   "cell_type": "code",
   "execution_count": 248,
   "id": "a24b4b03",
   "metadata": {},
   "outputs": [
    {
     "data": {
      "image/png": "[encoded data removed]",
      "text/plain": [
       "<Figure size 640x480 with 1 Axes>"
      ]
     },
     "metadata": {},
     "output_type": "display_data"
    }
   ],
   "source": [
    "sns.countplot(data=df,x='education',hue='loan_status')\n",
    "plt.show()"
   ]
  },
  {
   "cell_type": "code",
   "execution_count": null,
   "id": "1a5ed5fa",
   "metadata": {},
   "outputs": [],
   "source": []
  },
  {
   "cell_type": "markdown",
   "id": "0bd803d3",
   "metadata": {},
   "source": [
    "* `Split to train & test `\n"
   ]
  },
  {
   "cell_type": "code",
   "execution_count": 249,
   "id": "dfdfa79a",
   "metadata": {},
   "outputs": [],
   "source": [
    "X = df.drop(columns='loan_status',axis=1)\n",
    "y = df['loan_status']"
   ]
  },
  {
   "cell_type": "code",
   "execution_count": null,
   "id": "ab0d1012",
   "metadata": {},
   "outputs": [],
   "source": []
  },
  {
   "cell_type": "code",
   "execution_count": 250,
   "id": "5f4b063d",
   "metadata": {},
   "outputs": [],
   "source": [
    "X_train, X_test, y_train, y_test = train_test_split(X,y,test_size=0.2,shuffle=True,stratify=y,random_state=42)"
   ]
  },
  {
   "cell_type": "code",
   "execution_count": 251,
   "id": "303c156c",
   "metadata": {},
   "outputs": [
    {
     "name": "stdout",
     "output_type": "stream",
     "text": [
      "X_train.shape \t (3415, 14)\n",
      "y_train.shape \t (3415,)\n",
      "******************************\n",
      "X_test.shape \t (854, 14)\n",
      "y_test.shape \t (854,)\n"
     ]
    }
   ],
   "source": [
    "print('X_train.shape \\t', X_train.shape)\n",
    "print('y_train.shape \\t', y_train.shape)\n",
    "print('***'*10)\n",
    "print('X_test.shape \\t', X_test.shape)\n",
    "print('y_test.shape \\t', y_test.shape)"
   ]
  },
  {
   "cell_type": "code",
   "execution_count": 252,
   "id": "67c29f4e",
   "metadata": {},
   "outputs": [
    {
     "data": {
      "image/png": "[encoded data removed]",
      "text/plain": [
       "<Figure size 2000x400 with 3 Axes>"
      ]
     },
     "metadata": {},
     "output_type": "display_data"
    }
   ],
   "source": [
    "# plottting to check\n",
    "fig, ax = plt.subplots(1, 3, figsize=(20, 4))\n",
    "\n",
    "# Whole dataset\n",
    "plt.sca(ax[0])\n",
    "sns.countplot(x=y)\n",
    "plt.title('For Whole Datast')\n",
    "plt.ylabel('Count')\n",
    "plt.xticks(ticks=[0, 1], labels=['No', 'Yes'])\n",
    "\n",
    "# train\n",
    "plt.sca(ax[1])\n",
    "sns.countplot(x=y_train)\n",
    "plt.title('For Training Datast')\n",
    "plt.ylabel('')\n",
    "plt.xticks(ticks=[0, 1], labels=['No', 'Yes'])\n",
    "\n",
    "# test\n",
    "plt.sca(ax[2])\n",
    "sns.countplot(x=y_test)\n",
    "plt.title('For Testing Datast')\n",
    "plt.ylabel('')\n",
    "plt.xticks(ticks=[0, 1], labels=['No', 'Yes'])\n",
    "plt.show()"
   ]
  },
  {
   "cell_type": "code",
   "execution_count": 253,
   "id": "2e95de58",
   "metadata": {},
   "outputs": [
    {
     "data": {
      "text/html": [
       "<div>\n",
       "<style scoped>\n",
       "    .dataframe tbody tr th:only-of-type {\n",
       "        vertical-align: middle;\n",
       "    }\n",
       "\n",
       "    .dataframe tbody tr th {\n",
       "        vertical-align: top;\n",
       "    }\n",
       "\n",
       "    .dataframe thead th {\n",
       "        text-align: right;\n",
       "    }\n",
       "</style>\n",
       "<table border=\"1\" class=\"dataframe\">\n",
       "  <thead>\n",
       "    <tr style=\"text-align: right;\">\n",
       "      <th></th>\n",
       "      <th>no_of_dependents</th>\n",
       "      <th>education</th>\n",
       "      <th>self_employed</th>\n",
       "      <th>income_annum</th>\n",
       "      <th>loan_amount</th>\n",
       "      <th>loan_term</th>\n",
       "      <th>cibil_score</th>\n",
       "      <th>residential_assets_value</th>\n",
       "      <th>commercial_assets_value</th>\n",
       "      <th>luxury_assets_value</th>\n",
       "      <th>bank_asset_value</th>\n",
       "      <th>loan_status</th>\n",
       "      <th>total_assets</th>\n",
       "      <th>loan_to_income</th>\n",
       "      <th>loan_to_assets_ratio</th>\n",
       "    </tr>\n",
       "  </thead>\n",
       "  <tbody>\n",
       "    <tr>\n",
       "      <th>0</th>\n",
       "      <td>2</td>\n",
       "      <td>Graduate</td>\n",
       "      <td>No</td>\n",
       "      <td>9600000</td>\n",
       "      <td>29900000</td>\n",
       "      <td>12</td>\n",
       "      <td>778</td>\n",
       "      <td>2400000</td>\n",
       "      <td>17600000</td>\n",
       "      <td>22700000</td>\n",
       "      <td>8000000</td>\n",
       "      <td>Approved</td>\n",
       "      <td>50700000</td>\n",
       "      <td>3.114583</td>\n",
       "      <td>1.589744</td>\n",
       "    </tr>\n",
       "    <tr>\n",
       "      <th>1</th>\n",
       "      <td>0</td>\n",
       "      <td>Not Graduate</td>\n",
       "      <td>Yes</td>\n",
       "      <td>4100000</td>\n",
       "      <td>12200000</td>\n",
       "      <td>8</td>\n",
       "      <td>417</td>\n",
       "      <td>2700000</td>\n",
       "      <td>2200000</td>\n",
       "      <td>8800000</td>\n",
       "      <td>3300000</td>\n",
       "      <td>Rejected</td>\n",
       "      <td>17000000</td>\n",
       "      <td>2.975610</td>\n",
       "      <td>1.717647</td>\n",
       "    </tr>\n",
       "  </tbody>\n",
       "</table>\n",
       "</div>"
      ],
      "text/plain": [
       "   no_of_dependents      education self_employed  income_annum  loan_amount  \\\n",
       "0                 2       Graduate            No       9600000     29900000   \n",
       "1                 0   Not Graduate           Yes       4100000     12200000   \n",
       "\n",
       "   loan_term  cibil_score  residential_assets_value  commercial_assets_value  \\\n",
       "0         12          778                   2400000                 17600000   \n",
       "1          8          417                   2700000                  2200000   \n",
       "\n",
       "   luxury_assets_value  bank_asset_value loan_status  total_assets  \\\n",
       "0             22700000           8000000    Approved      50700000   \n",
       "1              8800000           3300000    Rejected      17000000   \n",
       "\n",
       "   loan_to_income  loan_to_assets_ratio  \n",
       "0        3.114583              1.589744  \n",
       "1        2.975610              1.717647  "
      ]
     },
     "execution_count": 253,
     "metadata": {},
     "output_type": "execute_result"
    }
   ],
   "source": [
    "df.head(2)"
   ]
  },
  {
   "cell_type": "code",
   "execution_count": 254,
   "id": "88e04398",
   "metadata": {},
   "outputs": [
    {
     "data": {
      "text/plain": [
       "no_of_dependents              int64\n",
       "education                    object\n",
       "self_employed                object\n",
       "income_annum                  int64\n",
       "loan_amount                   int64\n",
       "loan_term                     int64\n",
       "cibil_score                   int64\n",
       "residential_assets_value      int64\n",
       "commercial_assets_value       int64\n",
       "luxury_assets_value           int64\n",
       "bank_asset_value              int64\n",
       "loan_status                  object\n",
       "total_assets                  int64\n",
       "loan_to_income              float64\n",
       "loan_to_assets_ratio        float64\n",
       "dtype: object"
      ]
     },
     "execution_count": 254,
     "metadata": {},
     "output_type": "execute_result"
    }
   ],
   "source": [
    "df.dtypes"
   ]
  },
  {
   "cell_type": "markdown",
   "id": "ea1dbedd",
   "metadata": {},
   "source": [
    "* `Feature Selection & Preporcessing`"
   ]
  },
  {
   "cell_type": "code",
   "execution_count": 255,
   "id": "b5df0e82",
   "metadata": {},
   "outputs": [],
   "source": [
    "num_cols = [\n",
    "    'no_of_dependents',\n",
    "    'income_annum',\n",
    "    'loan_amount',\n",
    "    'loan_term',\n",
    "    'cibil_score',\n",
    "    'residential_assets_value',\n",
    "    'commercial_assets_value',\n",
    "    'luxury_assets_value',\n",
    "    'bank_asset_value',\n",
    "    'total_assets',\n",
    "    'loan_to_income',\n",
    "    'loan_to_assets_ratio'\n",
    "]\n",
    "\n",
    "categ_cols = ['education', 'self_employed']\n",
    "\n"
   ]
  },
  {
   "cell_type": "code",
   "execution_count": 256,
   "id": "3d255ec4",
   "metadata": {},
   "outputs": [
    {
     "data": {
      "text/plain": [
       "array([4.74588626e-01, 6.73910751e-01, 1.51807172e-01, 5.06092407e-11,\n",
       "       0.00000000e+00, 4.39776580e-01, 4.38728213e-01, 6.41884646e-01,\n",
       "       9.49820957e-01, 7.55481542e-01, 3.60632382e-07, 2.87439279e-02])"
      ]
     },
     "execution_count": 256,
     "metadata": {},
     "output_type": "execute_result"
    }
   ],
   "source": [
    "# Numerical cols (num_cols) & Target cols --> ANOVA\n",
    "_, p_val = f_classif(X=X_train[num_cols], y=y_train)\n",
    "p_val   # All features p-value less than 0.05 --> Reject H0 --> There is an asscociation"
   ]
  },
  {
   "cell_type": "code",
   "execution_count": 257,
   "id": "867741d8",
   "metadata": {},
   "outputs": [
    {
     "data": {
      "text/plain": [
       "array([0.88899926, 0.8440301 ])"
      ]
     },
     "execution_count": 257,
     "metadata": {},
     "output_type": "execute_result"
    }
   ],
   "source": [
    "_,p_val = chi2(X=OrdinalEncoder().fit_transform(X_train[categ_cols]),y=y_train)\n",
    "p_val"
   ]
  },
  {
   "cell_type": "code",
   "execution_count": 258,
   "id": "236cc192",
   "metadata": {},
   "outputs": [],
   "source": [
    "#df.drop(columns=['no_of_dependents','residential_assets_value','commercial_assets_value','luxury_assets_value'],inplace=True)"
   ]
  },
  {
   "cell_type": "code",
   "execution_count": 259,
   "id": "e3d298c8",
   "metadata": {},
   "outputs": [],
   "source": [
    "for col in categ_cols:\n",
    "    X_train[col] = X_train[col].astype(str)\n",
    "    X_test[col] = X_test[col].astype(str)"
   ]
  },
  {
   "cell_type": "code",
   "execution_count": 260,
   "id": "789efb7b",
   "metadata": {},
   "outputs": [],
   "source": [
    "# Pipeline\n",
    "\n",
    "# Numerical: num_cols --> Imputing using median, and standardscaler\n",
    "# Categorical: categ_cols ---> Imputing using mode, and OHE\n",
    "# Ready_cols ---> Imputing mode\n",
    "\n",
    "\n",
    "# For Numerical\n",
    "num_pipeline = Pipeline([\n",
    "    ('imputer', SimpleImputer(strategy='median')),\n",
    "    ('scaler', StandardScaler())\n",
    "])\n",
    "\n",
    "# For Categorical\n",
    "categ_pipeline = Pipeline([\n",
    "    ('imputer', SimpleImputer(strategy='most_frequent')),\n",
    "    ('encoder', OrdinalEncoder(handle_unknown='use_encoded_value', unknown_value=-1))\n",
    "])\n",
    "\n",
    "# For Ready cols\n",
    "\n",
    "\n",
    "# Combine all\n",
    "preprocessor = ColumnTransformer(transformers=[\n",
    "    ('numerical', num_pipeline, num_cols),\n",
    "    ('categorical', categ_pipeline, categ_cols)\n",
    "    \n",
    "])\n",
    "\n",
    "# Apply to train and test\n",
    "X_train_final = preprocessor.fit_transform(X_train)\n",
    "X_test_final = preprocessor.transform(X_test)\n"
   ]
  },
  {
   "cell_type": "code",
   "execution_count": 261,
   "id": "cdf274d0",
   "metadata": {},
   "outputs": [],
   "source": [
    "la = LabelEncoder()\n",
    "y_train = la.fit_transform(y_train)\n",
    "y_test = la.transform(y_test)\n"
   ]
  },
  {
   "cell_type": "code",
   "execution_count": 262,
   "id": "4672e45d",
   "metadata": {},
   "outputs": [
    {
     "data": {
      "text/plain": [
       "((3415, 14), (3415,))"
      ]
     },
     "execution_count": 262,
     "metadata": {},
     "output_type": "execute_result"
    }
   ],
   "source": [
    "X_train_final.shape , y_train.shape"
   ]
  },
  {
   "cell_type": "code",
   "execution_count": 263,
   "id": "53b1397e",
   "metadata": {},
   "outputs": [
    {
     "data": {
      "text/plain": [
       "((854, 14), (854,))"
      ]
     },
     "execution_count": 263,
     "metadata": {},
     "output_type": "execute_result"
    }
   ],
   "source": [
    "X_test_final.shape , y_test.shape"
   ]
  },
  {
   "cell_type": "code",
   "execution_count": 264,
   "id": "11cfe856",
   "metadata": {},
   "outputs": [
    {
     "name": "stdout",
     "output_type": "stream",
     "text": [
      "['education', 'self_employed']\n"
     ]
    }
   ],
   "source": [
    "print(categ_cols)\n"
   ]
  },
  {
   "cell_type": "markdown",
   "id": "5e92aa15",
   "metadata": {},
   "source": [
    "* `Deal with Imbalanced Dataset`"
   ]
  },
  {
   "cell_type": "code",
   "execution_count": 265,
   "id": "a7ba52a8",
   "metadata": {},
   "outputs": [
    {
     "data": {
      "text/plain": [
       "{0: np.float64(0.37774524158125916), 1: np.float64(0.6222547584187409)}"
      ]
     },
     "execution_count": 265,
     "metadata": {},
     "output_type": "execute_result"
    }
   ],
   "source": [
    "vals_count = 1 - (np.bincount(y_train) / len(y_train))\n",
    "vals_count = vals_count / sum(vals_count)\n",
    "dict_weight = {}\n",
    "for i in range(2):\n",
    "    dict_weight[i] = vals_count[i]\n",
    "    \n",
    "dict_weight"
   ]
  },
  {
   "cell_type": "code",
   "execution_count": 266,
   "id": "a6b66080",
   "metadata": {},
   "outputs": [],
   "source": [
    "over = SMOTE(k_neighbors=5,random_state=42,sampling_strategy=.8)\n",
    "X_train_final_resampled , y_train_resampled = over.fit_resample(X_train_final,y_train)"
   ]
  },
  {
   "cell_type": "code",
   "execution_count": 267,
   "id": "2d0b2173",
   "metadata": {},
   "outputs": [],
   "source": [
    "MODEL_FOLDER_PATH = os.path.join(os.getcwd(),'..','models')\n",
    "os.makedirs(MODEL_FOLDER_PATH,exist_ok=True)"
   ]
  },
  {
   "cell_type": "code",
   "execution_count": 268,
   "id": "cb5d6d7b",
   "metadata": {},
   "outputs": [
    {
     "data": {
      "text/plain": [
       "['c:\\\\Users\\\\Abdallah Samir\\\\Desktop\\\\loan_data\\\\notebooks\\\\..\\\\models\\\\preprocessor.pkl']"
      ]
     },
     "execution_count": 268,
     "metadata": {},
     "output_type": "execute_result"
    }
   ],
   "source": [
    "joblib.dump(preprocessor,os.path.join(MODEL_FOLDER_PATH,'preprocessor.pkl'))"
   ]
  },
  {
   "cell_type": "markdown",
   "id": "8601ecb4",
   "metadata": {},
   "source": [
    "* `Building Models `\n",
    "* `Using f1_score`"
   ]
  },
  {
   "cell_type": "code",
   "execution_count": 269,
   "id": "47b49867",
   "metadata": {},
   "outputs": [
    {
     "name": "stdout",
     "output_type": "stream",
     "text": [
      "The f1_score using logistic model for traning dataset is 87.96\n",
      "The f1_score using logistic model for testing dataset is 89.03\n"
     ]
    }
   ],
   "source": [
    "log_clf = LogisticRegression(C=1.5)\n",
    "log_clf.fit(X_train_final,y_train)\n",
    "\n",
    "y_train_predict_log = log_clf.predict(X_train_final)\n",
    "y_test_predict_log = log_clf.predict(X_test_final)\n",
    "\n",
    "score_train_log = f1_score(y_train,y_train_predict_log)\n",
    "score_test_log = f1_score(y_test,y_test_predict_log)\n",
    "\n",
    "print(f\"The f1_score using logistic model for traning dataset is {score_train_log*100:.2f}\")\n",
    "print(f\"The f1_score using logistic model for testing dataset is {score_test_log*100:.2f}\")"
   ]
  },
  {
   "cell_type": "code",
   "execution_count": 270,
   "id": "3ff35281",
   "metadata": {},
   "outputs": [
    {
     "name": "stdout",
     "output_type": "stream",
     "text": [
      "The f1_score using logistic model for traning dataset  with class weights is 89.36\n",
      "The f1_score using logistic model for testing dataset with class weights  is 91.41\n"
     ]
    }
   ],
   "source": [
    "log_clf = LogisticRegression(C=1.5,class_weight=dict_weight)\n",
    "log_clf.fit(X_train_final,y_train)\n",
    "\n",
    "y_train_predict_log = log_clf.predict(X_train_final)\n",
    "y_test_predict_log = log_clf.predict(X_test_final)\n",
    "\n",
    "score_train_log = f1_score(y_train,y_train_predict_log)\n",
    "score_test_log = f1_score(y_test,y_test_predict_log)\n",
    "\n",
    "print(f\"The f1_score using logistic model for traning dataset  with class weights is {score_train_log*100:.2f}\")\n",
    "print(f\"The f1_score using logistic model for testing dataset with class weights  is {score_test_log*100:.2f}\")"
   ]
  },
  {
   "cell_type": "code",
   "execution_count": 271,
   "id": "1b8ab6ac",
   "metadata": {},
   "outputs": [
    {
     "name": "stdout",
     "output_type": "stream",
     "text": [
      "The f1_score using logistic model for traning dataset  with SMOTE is 89.45\n",
      "The f1_score using logistic model for testing dataset with SMOTE  is 92.17\n"
     ]
    }
   ],
   "source": [
    "log_clf = LogisticRegression(C=1.5,class_weight=dict_weight)\n",
    "log_clf.fit(X_train_final_resampled,y_train_resampled)\n",
    "\n",
    "y_train_predict_log = log_clf.predict(X_train_final)\n",
    "y_test_predict_log = log_clf.predict(X_test_final)\n",
    "\n",
    "score_train_log = f1_score(y_train,y_train_predict_log)\n",
    "score_test_log = f1_score(y_test,y_test_predict_log)\n",
    "\n",
    "print(f\"The f1_score using logistic model for traning dataset  with SMOTE is {score_train_log*100:.2f}\")\n",
    "print(f\"The f1_score using logistic model for testing dataset with SMOTE  is {score_test_log*100:.2f}\")"
   ]
  },
  {
   "cell_type": "code",
   "execution_count": 272,
   "id": "3e0b336b",
   "metadata": {},
   "outputs": [
    {
     "data": {
      "image/png": "[encoded data removed]",
      "text/plain": [
       "<Figure size 640x480 with 1 Axes>"
      ]
     },
     "metadata": {},
     "output_type": "display_data"
    }
   ],
   "source": [
    "sns.heatmap(confusion_matrix(y_true=y_test,y_pred=y_test_predict_log),cmap='Blues',cbar=False,annot=True)\n",
    "plt.show()"
   ]
  },
  {
   "cell_type": "code",
   "execution_count": 273,
   "id": "32b7f796",
   "metadata": {},
   "outputs": [
    {
     "name": "stdout",
     "output_type": "stream",
     "text": [
      "              precision    recall  f1-score   support\n",
      "\n",
      "           0       0.97      0.93      0.95       531\n",
      "           1       0.90      0.95      0.92       323\n",
      "\n",
      "    accuracy                           0.94       854\n",
      "   macro avg       0.93      0.94      0.94       854\n",
      "weighted avg       0.94      0.94      0.94       854\n",
      "\n"
     ]
    }
   ],
   "source": [
    "print(classification_report(y_true=y_test,y_pred=y_test_predict_log))"
   ]
  },
  {
   "cell_type": "code",
   "execution_count": 274,
   "id": "e1a17bbf",
   "metadata": {},
   "outputs": [
    {
     "data": {
      "text/plain": [
       "['c:\\\\Users\\\\Abdallah Samir\\\\Desktop\\\\loan_data\\\\notebooks\\\\..\\\\models\\\\logistic.pkl']"
      ]
     },
     "execution_count": 274,
     "metadata": {},
     "output_type": "execute_result"
    }
   ],
   "source": [
    "joblib.dump(log_clf,os.path.join(MODEL_FOLDER_PATH,'logistic.pkl'))"
   ]
  },
  {
   "cell_type": "markdown",
   "id": "2f9e396a",
   "metadata": {},
   "source": [
    "* `RondomForest`"
   ]
  },
  {
   "cell_type": "code",
   "execution_count": 275,
   "id": "0655b19a",
   "metadata": {},
   "outputs": [
    {
     "name": "stdout",
     "output_type": "stream",
     "text": [
      "The f1_score using RandomForest model for traning dataset  with SMOTE is 99.77\n",
      "The f1_score using RandomForest model for testing dataset with SMOTE  is 99.69\n"
     ]
    }
   ],
   "source": [
    "rf_clf = RandomForestClassifier(n_estimators=150,random_state=45,max_depth=5,class_weight=dict_weight)\n",
    "rf_clf.fit(X_train_final,y_train)\n",
    "\n",
    "\n",
    "y_train_predict_forest = rf_clf.predict(X_train_final)\n",
    "y_test_predict_forest = rf_clf.predict(X_test_final)\n",
    "\n",
    "score_train_forest = f1_score(y_train,y_train_predict_forest)\n",
    "score_test_forest = f1_score(y_test,y_test_predict_forest)\n",
    "\n",
    "\n",
    "print(f\"The f1_score using RandomForest model for traning dataset  with SMOTE is {score_train_forest*100:.2f}\")\n",
    "print(f\"The f1_score using RandomForest model for testing dataset with SMOTE  is {score_test_forest*100:.2f}\")"
   ]
  },
  {
   "cell_type": "code",
   "execution_count": 276,
   "id": "1e0d2dd7",
   "metadata": {},
   "outputs": [
    {
     "name": "stdout",
     "output_type": "stream",
     "text": [
      "The f1_score using RandomForest model for traning dataset  with SMOTE is 100.00\n",
      "The f1_score using RandomForest model for testing dataset with SMOTE  is 99.84\n"
     ]
    }
   ],
   "source": [
    "# SMOTE\n",
    "rf_clf = RandomForestClassifier(n_estimators=150,random_state=45,max_depth=5)\n",
    "rf_clf.fit(X_train_final_resampled,y_train_resampled)\n",
    "\n",
    "\n",
    "y_train_predict_forest = rf_clf.predict(X_train_final)\n",
    "y_test_predict_forest = rf_clf.predict(X_test_final)\n",
    "\n",
    "score_train_forest = f1_score(y_train,y_train_predict_forest)\n",
    "score_test_forest = f1_score(y_test,y_test_predict_forest)\n",
    "\n",
    "\n",
    "print(f\"The f1_score using RandomForest model for traning dataset  with SMOTE is {score_train_forest*100:.2f}\")\n",
    "print(f\"The f1_score using RandomForest model for testing dataset with SMOTE  is {score_test_forest*100:.2f}\")"
   ]
  },
  {
   "cell_type": "code",
   "execution_count": 277,
   "id": "3d779ee1",
   "metadata": {},
   "outputs": [
    {
     "data": {
      "text/plain": [
       "['c:\\\\Users\\\\Abdallah Samir\\\\Desktop\\\\loan_data\\\\notebooks\\\\..\\\\models\\\\randomforest.pkl']"
      ]
     },
     "execution_count": 277,
     "metadata": {},
     "output_type": "execute_result"
    }
   ],
   "source": [
    "joblib.dump(rf_clf,os.path.join(MODEL_FOLDER_PATH,'randomforest.pkl'))"
   ]
  },
  {
   "cell_type": "code",
   "execution_count": null,
   "id": "b4e8618b",
   "metadata": {},
   "outputs": [],
   "source": []
  },
  {
   "cell_type": "markdown",
   "id": "3d5e1227",
   "metadata": {},
   "source": [
    "* `XGBOOST`"
   ]
  },
  {
   "cell_type": "code",
   "execution_count": 278,
   "id": "934c7ac8",
   "metadata": {},
   "outputs": [
    {
     "name": "stdout",
     "output_type": "stream",
     "text": [
      "The f1_score using RandomForest model for traning dataset  with SMOTE is 100.00\n",
      "The f1_score using RandomForest model for testing dataset with SMOTE  is 99.84\n"
     ]
    }
   ],
   "source": [
    "xgb_clf = xgb.XGBClassifier(objective='binary:logistic',max_depth=5,learning_rate=.1,n_estimators=150,random_state=45)\n",
    "xgb_clf.fit(X_train_final_resampled,y_train_resampled)\n",
    "\n",
    "\n",
    "y_train_predict_xgb = rf_clf.predict(X_train_final)\n",
    "y_test_predict_xgb = rf_clf.predict(X_test_final)\n",
    "\n",
    "score_train_xgb = f1_score(y_train,y_train_predict_xgb)\n",
    "score_test_xgb = f1_score(y_test,y_test_predict_xgb)\n",
    "\n",
    "\n",
    "print(f\"The f1_score using RandomForest model for traning dataset  with SMOTE is {score_train_xgb*100:.2f}\")\n",
    "print(f\"The f1_score using RandomForest model for testing dataset with SMOTE  is {score_test_xgb*100:.2f}\")\n"
   ]
  },
  {
   "cell_type": "code",
   "execution_count": 279,
   "id": "e44006aa",
   "metadata": {},
   "outputs": [
    {
     "name": "stdout",
     "output_type": "stream",
     "text": [
      "The f1_score using RandomForest model for traning dataset  with SMOTE is 100.00\n",
      "The f1_score using RandomForest model for testing dataset with SMOTE  is 99.84\n"
     ]
    }
   ],
   "source": [
    "xgb_clf = xgb.XGBClassifier(objective='binary:logistic',max_depth=5,learning_rate=.1,n_estimators=150,random_state=45)\n",
    "xgb_clf.fit(X_train_final,y_train)\n",
    "\n",
    "\n",
    "y_train_predict_xgb = rf_clf.predict(X_train_final)\n",
    "y_test_predict_xgb = rf_clf.predict(X_test_final)\n",
    "\n",
    "score_train_xgb = f1_score(y_train,y_train_predict_xgb)\n",
    "score_test_xgb = f1_score(y_test,y_test_predict_xgb)\n",
    "\n",
    "\n",
    "print(f\"The f1_score using RandomForest model for traning dataset  with SMOTE is {score_train_xgb*100:.2f}\")\n",
    "print(f\"The f1_score using RandomForest model for testing dataset with SMOTE  is {score_test_xgb*100:.2f}\")"
   ]
  },
  {
   "cell_type": "code",
   "execution_count": 280,
   "id": "86b238f0",
   "metadata": {},
   "outputs": [
    {
     "data": {
      "text/plain": [
       "['c:\\\\Users\\\\Abdallah Samir\\\\Desktop\\\\loan_data\\\\notebooks\\\\..\\\\models\\\\xgb.pkl']"
      ]
     },
     "execution_count": 280,
     "metadata": {},
     "output_type": "execute_result"
    }
   ],
   "source": [
    "joblib.dump(xgb_clf,os.path.join(MODEL_FOLDER_PATH,'xgb.pkl'))"
   ]
  },
  {
   "cell_type": "code",
   "execution_count": 281,
   "id": "0ac1ac93",
   "metadata": {},
   "outputs": [],
   "source": [
    "import secrets"
   ]
  },
  {
   "cell_type": "code",
   "execution_count": 282,
   "id": "0b989990",
   "metadata": {},
   "outputs": [
    {
     "data": {
      "text/plain": [
       "'a0e619e93e5e7e29c9e97e8e44fd9670'"
      ]
     },
     "execution_count": 282,
     "metadata": {},
     "output_type": "execute_result"
    }
   ],
   "source": [
    "secrets.token_hex(16)"
   ]
  },
  {
   "cell_type": "code",
   "execution_count": 283,
   "id": "33ffc5ea",
   "metadata": {},
   "outputs": [
    {
     "data": {
      "text/html": [
       "<div>\n",
       "<style scoped>\n",
       "    .dataframe tbody tr th:only-of-type {\n",
       "        vertical-align: middle;\n",
       "    }\n",
       "\n",
       "    .dataframe tbody tr th {\n",
       "        vertical-align: top;\n",
       "    }\n",
       "\n",
       "    .dataframe thead th {\n",
       "        text-align: right;\n",
       "    }\n",
       "</style>\n",
       "<table border=\"1\" class=\"dataframe\">\n",
       "  <thead>\n",
       "    <tr style=\"text-align: right;\">\n",
       "      <th></th>\n",
       "      <th>no_of_dependents</th>\n",
       "      <th>income_annum</th>\n",
       "      <th>loan_amount</th>\n",
       "      <th>loan_term</th>\n",
       "      <th>cibil_score</th>\n",
       "      <th>residential_assets_value</th>\n",
       "      <th>commercial_assets_value</th>\n",
       "      <th>luxury_assets_value</th>\n",
       "      <th>bank_asset_value</th>\n",
       "      <th>total_assets</th>\n",
       "      <th>loan_to_income</th>\n",
       "      <th>loan_to_assets_ratio</th>\n",
       "    </tr>\n",
       "  </thead>\n",
       "  <tbody>\n",
       "    <tr>\n",
       "      <th>count</th>\n",
       "      <td>4269.000000</td>\n",
       "      <td>4.269000e+03</td>\n",
       "      <td>4.269000e+03</td>\n",
       "      <td>4269.000000</td>\n",
       "      <td>4269.000000</td>\n",
       "      <td>4.269000e+03</td>\n",
       "      <td>4.269000e+03</td>\n",
       "      <td>4.269000e+03</td>\n",
       "      <td>4.269000e+03</td>\n",
       "      <td>4.269000e+03</td>\n",
       "      <td>4269.000000</td>\n",
       "      <td>4269.000000</td>\n",
       "    </tr>\n",
       "    <tr>\n",
       "      <th>mean</th>\n",
       "      <td>2.498712</td>\n",
       "      <td>5.059124e+06</td>\n",
       "      <td>1.513345e+07</td>\n",
       "      <td>10.900445</td>\n",
       "      <td>599.936051</td>\n",
       "      <td>7.472617e+06</td>\n",
       "      <td>4.973155e+06</td>\n",
       "      <td>1.512631e+07</td>\n",
       "      <td>4.976692e+06</td>\n",
       "      <td>3.254877e+07</td>\n",
       "      <td>2.984807</td>\n",
       "      <td>1.486857</td>\n",
       "    </tr>\n",
       "    <tr>\n",
       "      <th>std</th>\n",
       "      <td>1.695910</td>\n",
       "      <td>2.806840e+06</td>\n",
       "      <td>9.043363e+06</td>\n",
       "      <td>5.709187</td>\n",
       "      <td>172.430401</td>\n",
       "      <td>6.503637e+06</td>\n",
       "      <td>4.388966e+06</td>\n",
       "      <td>9.103754e+06</td>\n",
       "      <td>3.250185e+06</td>\n",
       "      <td>1.950656e+07</td>\n",
       "      <td>0.595496</td>\n",
       "      <td>0.145554</td>\n",
       "    </tr>\n",
       "    <tr>\n",
       "      <th>min</th>\n",
       "      <td>0.000000</td>\n",
       "      <td>2.000000e+05</td>\n",
       "      <td>3.000000e+05</td>\n",
       "      <td>2.000000</td>\n",
       "      <td>300.000000</td>\n",
       "      <td>-1.000000e+05</td>\n",
       "      <td>0.000000e+00</td>\n",
       "      <td>3.000000e+05</td>\n",
       "      <td>0.000000e+00</td>\n",
       "      <td>4.000000e+05</td>\n",
       "      <td>1.500000</td>\n",
       "      <td>1.176471</td>\n",
       "    </tr>\n",
       "    <tr>\n",
       "      <th>25%</th>\n",
       "      <td>1.000000</td>\n",
       "      <td>2.700000e+06</td>\n",
       "      <td>7.700000e+06</td>\n",
       "      <td>6.000000</td>\n",
       "      <td>453.000000</td>\n",
       "      <td>2.200000e+06</td>\n",
       "      <td>1.300000e+06</td>\n",
       "      <td>7.500000e+06</td>\n",
       "      <td>2.300000e+06</td>\n",
       "      <td>1.630000e+07</td>\n",
       "      <td>2.464286</td>\n",
       "      <td>1.382231</td>\n",
       "    </tr>\n",
       "    <tr>\n",
       "      <th>50%</th>\n",
       "      <td>3.000000</td>\n",
       "      <td>5.100000e+06</td>\n",
       "      <td>1.450000e+07</td>\n",
       "      <td>10.000000</td>\n",
       "      <td>600.000000</td>\n",
       "      <td>5.600000e+06</td>\n",
       "      <td>3.700000e+06</td>\n",
       "      <td>1.460000e+07</td>\n",
       "      <td>4.600000e+06</td>\n",
       "      <td>3.150000e+07</td>\n",
       "      <td>3.000000</td>\n",
       "      <td>1.466667</td>\n",
       "    </tr>\n",
       "    <tr>\n",
       "      <th>75%</th>\n",
       "      <td>4.000000</td>\n",
       "      <td>7.500000e+06</td>\n",
       "      <td>2.150000e+07</td>\n",
       "      <td>16.000000</td>\n",
       "      <td>748.000000</td>\n",
       "      <td>1.130000e+07</td>\n",
       "      <td>7.600000e+06</td>\n",
       "      <td>2.170000e+07</td>\n",
       "      <td>7.100000e+06</td>\n",
       "      <td>4.720000e+07</td>\n",
       "      <td>3.500000</td>\n",
       "      <td>1.565820</td>\n",
       "    </tr>\n",
       "    <tr>\n",
       "      <th>max</th>\n",
       "      <td>5.000000</td>\n",
       "      <td>9.900000e+06</td>\n",
       "      <td>3.950000e+07</td>\n",
       "      <td>20.000000</td>\n",
       "      <td>900.000000</td>\n",
       "      <td>2.910000e+07</td>\n",
       "      <td>1.940000e+07</td>\n",
       "      <td>3.920000e+07</td>\n",
       "      <td>1.470000e+07</td>\n",
       "      <td>9.070000e+07</td>\n",
       "      <td>4.000000</td>\n",
       "      <td>2.333333</td>\n",
       "    </tr>\n",
       "  </tbody>\n",
       "</table>\n",
       "</div>"
      ],
      "text/plain": [
       "       no_of_dependents  income_annum   loan_amount    loan_term  cibil_score  \\\n",
       "count       4269.000000  4.269000e+03  4.269000e+03  4269.000000  4269.000000   \n",
       "mean           2.498712  5.059124e+06  1.513345e+07    10.900445   599.936051   \n",
       "std            1.695910  2.806840e+06  9.043363e+06     5.709187   172.430401   \n",
       "min            0.000000  2.000000e+05  3.000000e+05     2.000000   300.000000   \n",
       "25%            1.000000  2.700000e+06  7.700000e+06     6.000000   453.000000   \n",
       "50%            3.000000  5.100000e+06  1.450000e+07    10.000000   600.000000   \n",
       "75%            4.000000  7.500000e+06  2.150000e+07    16.000000   748.000000   \n",
       "max            5.000000  9.900000e+06  3.950000e+07    20.000000   900.000000   \n",
       "\n",
       "       residential_assets_value  commercial_assets_value  luxury_assets_value  \\\n",
       "count              4.269000e+03             4.269000e+03         4.269000e+03   \n",
       "mean               7.472617e+06             4.973155e+06         1.512631e+07   \n",
       "std                6.503637e+06             4.388966e+06         9.103754e+06   \n",
       "min               -1.000000e+05             0.000000e+00         3.000000e+05   \n",
       "25%                2.200000e+06             1.300000e+06         7.500000e+06   \n",
       "50%                5.600000e+06             3.700000e+06         1.460000e+07   \n",
       "75%                1.130000e+07             7.600000e+06         2.170000e+07   \n",
       "max                2.910000e+07             1.940000e+07         3.920000e+07   \n",
       "\n",
       "       bank_asset_value  total_assets  loan_to_income  loan_to_assets_ratio  \n",
       "count      4.269000e+03  4.269000e+03     4269.000000           4269.000000  \n",
       "mean       4.976692e+06  3.254877e+07        2.984807              1.486857  \n",
       "std        3.250185e+06  1.950656e+07        0.595496              0.145554  \n",
       "min        0.000000e+00  4.000000e+05        1.500000              1.176471  \n",
       "25%        2.300000e+06  1.630000e+07        2.464286              1.382231  \n",
       "50%        4.600000e+06  3.150000e+07        3.000000              1.466667  \n",
       "75%        7.100000e+06  4.720000e+07        3.500000              1.565820  \n",
       "max        1.470000e+07  9.070000e+07        4.000000              2.333333  "
      ]
     },
     "execution_count": 283,
     "metadata": {},
     "output_type": "execute_result"
    }
   ],
   "source": [
    "df.describe()"
   ]
  },
  {
   "cell_type": "code",
   "execution_count": null,
   "id": "6463e061",
   "metadata": {},
   "outputs": [],
   "source": []
  }
 ],
 "metadata": {
  "kernelspec": {
   "display_name": "Python 3",
   "language": "python",
   "name": "python3"
  },
  "language_info": {
   "codemirror_mode": {
    "name": "ipython",
    "version": 3
   },
   "file_extension": ".py",
   "mimetype": "text/x-python",
   "name": "python",
   "nbconvert_exporter": "python",
   "pygments_lexer": "ipython3",
   "version": "3.13.2"
  }
 },
 "nbformat": 4,
 "nbformat_minor": 5
}
